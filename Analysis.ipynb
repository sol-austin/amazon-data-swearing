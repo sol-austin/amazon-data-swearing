{
 "cells": [
  {
   "cell_type": "markdown",
   "metadata": {},
   "source": [
    "<h2>Initial audio analysis</h2>"
   ]
  },
  {
   "cell_type": "code",
   "execution_count": 1,
   "metadata": {},
   "outputs": [],
   "source": [
    "import pandas as pd\n",
    "import seaborn as sns\n",
    "import matplotlib.pyplot as plt\n",
    "from shutil import copyfile\n",
    "import os"
   ]
  },
  {
   "cell_type": "code",
   "execution_count": 3,
   "metadata": {},
   "outputs": [],
   "source": [
    "transcripts = pd.read_csv('Alexa_6/Audio and Transcription/Transcriptions-1.csv')"
   ]
  },
  {
   "cell_type": "code",
   "execution_count": 4,
   "metadata": {},
   "outputs": [
    {
     "data": {
      "text/html": [
       "<div>\n",
       "<style scoped>\n",
       "    .dataframe tbody tr th:only-of-type {\n",
       "        vertical-align: middle;\n",
       "    }\n",
       "\n",
       "    .dataframe tbody tr th {\n",
       "        vertical-align: top;\n",
       "    }\n",
       "\n",
       "    .dataframe thead th {\n",
       "        text-align: right;\n",
       "    }\n",
       "</style>\n",
       "<table border=\"1\" class=\"dataframe\">\n",
       "  <thead>\n",
       "    <tr style=\"text-align: right;\">\n",
       "      <th></th>\n",
       "      <th>Timestamp (UTC)</th>\n",
       "      <th>Transcription</th>\n",
       "      <th>File</th>\n",
       "      <th>Alexa Response</th>\n",
       "    </tr>\n",
       "  </thead>\n",
       "  <tbody>\n",
       "    <tr>\n",
       "      <th>count</th>\n",
       "      <td>33397</td>\n",
       "      <td>33397</td>\n",
       "      <td>33397</td>\n",
       "      <td>33397</td>\n",
       "    </tr>\n",
       "    <tr>\n",
       "      <th>unique</th>\n",
       "      <td>31305</td>\n",
       "      <td>6828</td>\n",
       "      <td>31420</td>\n",
       "      <td>4536</td>\n",
       "    </tr>\n",
       "    <tr>\n",
       "      <th>top</th>\n",
       "      <td>Data Not Available</td>\n",
       "      <td>alexa off</td>\n",
       "      <td>92907392a710c140204ce5ac1dd2269c48562a85.wav</td>\n",
       "      <td>Not Applicable</td>\n",
       "    </tr>\n",
       "    <tr>\n",
       "      <th>freq</th>\n",
       "      <td>117</td>\n",
       "      <td>4561</td>\n",
       "      <td>7</td>\n",
       "      <td>19346</td>\n",
       "    </tr>\n",
       "  </tbody>\n",
       "</table>\n",
       "</div>"
      ],
      "text/plain": [
       "           Timestamp (UTC) Transcription  \\\n",
       "count                33397         33397   \n",
       "unique               31305          6828   \n",
       "top     Data Not Available     alexa off   \n",
       "freq                   117          4561   \n",
       "\n",
       "                                                File  Alexa Response  \n",
       "count                                          33397           33397  \n",
       "unique                                         31420            4536  \n",
       "top     92907392a710c140204ce5ac1dd2269c48562a85.wav  Not Applicable  \n",
       "freq                                               7           19346  "
      ]
     },
     "metadata": {},
     "output_type": "display_data"
    },
    {
     "name": "stdout",
     "output_type": "stream",
     "text": [
      "<class 'pandas.core.frame.DataFrame'>\n",
      "RangeIndex: 33397 entries, 0 to 33396\n",
      "Data columns (total 4 columns):\n",
      " #   Column           Non-Null Count  Dtype \n",
      "---  ------           --------------  ----- \n",
      " 0   Timestamp (UTC)  33397 non-null  object\n",
      " 1   Transcription    33397 non-null  object\n",
      " 2   File             33397 non-null  object\n",
      " 3   Alexa Response   33397 non-null  object\n",
      "dtypes: object(4)\n",
      "memory usage: 1.0+ MB\n"
     ]
    },
    {
     "data": {
      "text/plain": [
       "None"
      ]
     },
     "metadata": {},
     "output_type": "display_data"
    }
   ],
   "source": [
    "display(transcripts.describe())\n",
    "display(transcripts.info())"
   ]
  },
  {
   "cell_type": "code",
   "execution_count": 5,
   "metadata": {},
   "outputs": [],
   "source": [
    "transcript_time = transcripts[['Timestamp (UTC)']]"
   ]
  },
  {
   "cell_type": "code",
   "execution_count": 6,
   "metadata": {},
   "outputs": [
    {
     "data": {
      "text/html": [
       "<div>\n",
       "<style scoped>\n",
       "    .dataframe tbody tr th:only-of-type {\n",
       "        vertical-align: middle;\n",
       "    }\n",
       "\n",
       "    .dataframe tbody tr th {\n",
       "        vertical-align: top;\n",
       "    }\n",
       "\n",
       "    .dataframe thead th {\n",
       "        text-align: right;\n",
       "    }\n",
       "</style>\n",
       "<table border=\"1\" class=\"dataframe\">\n",
       "  <thead>\n",
       "    <tr style=\"text-align: right;\">\n",
       "      <th></th>\n",
       "      <th>Timestamp (UTC)</th>\n",
       "    </tr>\n",
       "  </thead>\n",
       "  <tbody>\n",
       "    <tr>\n",
       "      <th>count</th>\n",
       "      <td>33397</td>\n",
       "    </tr>\n",
       "    <tr>\n",
       "      <th>unique</th>\n",
       "      <td>31305</td>\n",
       "    </tr>\n",
       "    <tr>\n",
       "      <th>top</th>\n",
       "      <td>Data Not Available</td>\n",
       "    </tr>\n",
       "    <tr>\n",
       "      <th>freq</th>\n",
       "      <td>117</td>\n",
       "    </tr>\n",
       "  </tbody>\n",
       "</table>\n",
       "</div>"
      ],
      "text/plain": [
       "           Timestamp (UTC)\n",
       "count                33397\n",
       "unique               31305\n",
       "top     Data Not Available\n",
       "freq                   117"
      ]
     },
     "metadata": {},
     "output_type": "display_data"
    }
   ],
   "source": [
    "display(transcript_time.describe())"
   ]
  },
  {
   "cell_type": "code",
   "execution_count": 7,
   "metadata": {},
   "outputs": [
    {
     "data": {
      "text/html": [
       "<div>\n",
       "<style scoped>\n",
       "    .dataframe tbody tr th:only-of-type {\n",
       "        vertical-align: middle;\n",
       "    }\n",
       "\n",
       "    .dataframe tbody tr th {\n",
       "        vertical-align: top;\n",
       "    }\n",
       "\n",
       "    .dataframe thead th {\n",
       "        text-align: right;\n",
       "    }\n",
       "</style>\n",
       "<table border=\"1\" class=\"dataframe\">\n",
       "  <thead>\n",
       "    <tr style=\"text-align: right;\">\n",
       "      <th></th>\n",
       "      <th>Timestamp (UTC)</th>\n",
       "    </tr>\n",
       "  </thead>\n",
       "  <tbody>\n",
       "    <tr>\n",
       "      <th>count</th>\n",
       "      <td>33280</td>\n",
       "    </tr>\n",
       "    <tr>\n",
       "      <th>unique</th>\n",
       "      <td>31304</td>\n",
       "    </tr>\n",
       "    <tr>\n",
       "      <th>top</th>\n",
       "      <td>2018-10-21T18:20:47.544Z</td>\n",
       "    </tr>\n",
       "    <tr>\n",
       "      <th>freq</th>\n",
       "      <td>7</td>\n",
       "    </tr>\n",
       "  </tbody>\n",
       "</table>\n",
       "</div>"
      ],
      "text/plain": [
       "                 Timestamp (UTC)\n",
       "count                      33280\n",
       "unique                     31304\n",
       "top     2018-10-21T18:20:47.544Z\n",
       "freq                           7"
      ]
     },
     "metadata": {},
     "output_type": "display_data"
    }
   ],
   "source": [
    "transcript_time = transcript_time[transcript_time['Timestamp (UTC)'] != 'Data Not Available']\n",
    "display(transcript_time.describe())"
   ]
  },
  {
   "cell_type": "code",
   "execution_count": 8,
   "metadata": {},
   "outputs": [],
   "source": [
    "transcript_time['Timestamp (UTC)'] = pd.to_datetime(transcript_time['Timestamp (UTC)'])\n",
    "\n",
    "transcript_time['Day of week'] = transcript_time['Timestamp (UTC)'].dt.day_name()"
   ]
  },
  {
   "cell_type": "code",
   "execution_count": 9,
   "metadata": {},
   "outputs": [
    {
     "data": {
      "text/html": [
       "<div>\n",
       "<style scoped>\n",
       "    .dataframe tbody tr th:only-of-type {\n",
       "        vertical-align: middle;\n",
       "    }\n",
       "\n",
       "    .dataframe tbody tr th {\n",
       "        vertical-align: top;\n",
       "    }\n",
       "\n",
       "    .dataframe thead th {\n",
       "        text-align: right;\n",
       "    }\n",
       "</style>\n",
       "<table border=\"1\" class=\"dataframe\">\n",
       "  <thead>\n",
       "    <tr style=\"text-align: right;\">\n",
       "      <th></th>\n",
       "      <th>Timestamp (UTC)</th>\n",
       "      <th>Day of week</th>\n",
       "    </tr>\n",
       "  </thead>\n",
       "  <tbody>\n",
       "    <tr>\n",
       "      <th>0</th>\n",
       "      <td>2020-06-12 12:04:03.664000+00:00</td>\n",
       "      <td>Friday</td>\n",
       "    </tr>\n",
       "    <tr>\n",
       "      <th>1</th>\n",
       "      <td>2020-06-12 12:04:03.664000+00:00</td>\n",
       "      <td>Friday</td>\n",
       "    </tr>\n",
       "    <tr>\n",
       "      <th>2</th>\n",
       "      <td>2020-01-05 09:31:19.578000+00:00</td>\n",
       "      <td>Sunday</td>\n",
       "    </tr>\n",
       "    <tr>\n",
       "      <th>3</th>\n",
       "      <td>2018-12-12 08:13:19.107000+00:00</td>\n",
       "      <td>Wednesday</td>\n",
       "    </tr>\n",
       "    <tr>\n",
       "      <th>4</th>\n",
       "      <td>2019-04-01 06:39:25.197000+00:00</td>\n",
       "      <td>Monday</td>\n",
       "    </tr>\n",
       "  </tbody>\n",
       "</table>\n",
       "</div>"
      ],
      "text/plain": [
       "                   Timestamp (UTC) Day of week\n",
       "0 2020-06-12 12:04:03.664000+00:00      Friday\n",
       "1 2020-06-12 12:04:03.664000+00:00      Friday\n",
       "2 2020-01-05 09:31:19.578000+00:00      Sunday\n",
       "3 2018-12-12 08:13:19.107000+00:00   Wednesday\n",
       "4 2019-04-01 06:39:25.197000+00:00      Monday"
      ]
     },
     "metadata": {},
     "output_type": "display_data"
    }
   ],
   "source": [
    "display(transcript_time.head())"
   ]
  },
  {
   "cell_type": "code",
   "execution_count": 10,
   "metadata": {},
   "outputs": [],
   "source": [
    "transcript_time['Time only'] = pd.Series([val.time() for val in transcript_time['Timestamp (UTC)']])"
   ]
  },
  {
   "cell_type": "code",
   "execution_count": 11,
   "metadata": {},
   "outputs": [
    {
     "data": {
      "text/html": [
       "<div>\n",
       "<style scoped>\n",
       "    .dataframe tbody tr th:only-of-type {\n",
       "        vertical-align: middle;\n",
       "    }\n",
       "\n",
       "    .dataframe tbody tr th {\n",
       "        vertical-align: top;\n",
       "    }\n",
       "\n",
       "    .dataframe thead th {\n",
       "        text-align: right;\n",
       "    }\n",
       "</style>\n",
       "<table border=\"1\" class=\"dataframe\">\n",
       "  <thead>\n",
       "    <tr style=\"text-align: right;\">\n",
       "      <th></th>\n",
       "      <th>Timestamp (UTC)</th>\n",
       "      <th>Day of week</th>\n",
       "      <th>Time only</th>\n",
       "    </tr>\n",
       "  </thead>\n",
       "  <tbody>\n",
       "    <tr>\n",
       "      <th>0</th>\n",
       "      <td>2020-06-12 12:04:03.664000+00:00</td>\n",
       "      <td>Friday</td>\n",
       "      <td>12:04:03.664000</td>\n",
       "    </tr>\n",
       "    <tr>\n",
       "      <th>1</th>\n",
       "      <td>2020-06-12 12:04:03.664000+00:00</td>\n",
       "      <td>Friday</td>\n",
       "      <td>12:04:03.664000</td>\n",
       "    </tr>\n",
       "    <tr>\n",
       "      <th>2</th>\n",
       "      <td>2020-01-05 09:31:19.578000+00:00</td>\n",
       "      <td>Sunday</td>\n",
       "      <td>09:31:19.578000</td>\n",
       "    </tr>\n",
       "    <tr>\n",
       "      <th>3</th>\n",
       "      <td>2018-12-12 08:13:19.107000+00:00</td>\n",
       "      <td>Wednesday</td>\n",
       "      <td>08:13:19.107000</td>\n",
       "    </tr>\n",
       "    <tr>\n",
       "      <th>4</th>\n",
       "      <td>2019-04-01 06:39:25.197000+00:00</td>\n",
       "      <td>Monday</td>\n",
       "      <td>06:39:25.197000</td>\n",
       "    </tr>\n",
       "  </tbody>\n",
       "</table>\n",
       "</div>"
      ],
      "text/plain": [
       "                   Timestamp (UTC) Day of week        Time only\n",
       "0 2020-06-12 12:04:03.664000+00:00      Friday  12:04:03.664000\n",
       "1 2020-06-12 12:04:03.664000+00:00      Friday  12:04:03.664000\n",
       "2 2020-01-05 09:31:19.578000+00:00      Sunday  09:31:19.578000\n",
       "3 2018-12-12 08:13:19.107000+00:00   Wednesday  08:13:19.107000\n",
       "4 2019-04-01 06:39:25.197000+00:00      Monday  06:39:25.197000"
      ]
     },
     "metadata": {},
     "output_type": "display_data"
    }
   ],
   "source": [
    "display(transcript_time.head())"
   ]
  },
  {
   "cell_type": "code",
   "execution_count": 12,
   "metadata": {},
   "outputs": [],
   "source": [
    "all_days = ['Monday', 'Tuesday', 'Wednesday', 'Thursday', 'Friday', 'Saturday', 'Sunday']\n",
    "all_days_dict = {}\n",
    "for day in all_days:\n",
    "    single_day = transcript_time[transcript_time['Day of week'] == day]\n",
    "    single_day = single_day.groupby(single_day['Timestamp (UTC)'].dt.hour).count()\n",
    "    single_day[[day]] = single_day[['Day of week']]\n",
    "    all_days_dict[day] = single_day[[day]]"
   ]
  },
  {
   "cell_type": "code",
   "execution_count": 13,
   "metadata": {},
   "outputs": [],
   "source": [
    "from functools import reduce\n",
    "all_days_merged = reduce(lambda x, y: pd.merge(x, y, left_index=True, right_index=True), all_days_dict.values())"
   ]
  },
  {
   "cell_type": "code",
   "execution_count": 14,
   "metadata": {},
   "outputs": [
    {
     "data": {
      "text/plain": [
       "<AxesSubplot:xlabel='Timestamp (UTC)'>"
      ]
     },
     "execution_count": 14,
     "metadata": {},
     "output_type": "execute_result"
    },
    {
     "data": {
      "image/png": "[encoded data removed]",
      "text/plain": [
       "<Figure size 2160x576 with 2 Axes>"
      ]
     },
     "metadata": {
      "needs_background": "light"
     },
     "output_type": "display_data"
    }
   ],
   "source": [
    "plt.figure(figsize=(30, 8))\n",
    "sns.heatmap(all_days_merged.transpose(), cmap='YlGnBu', annot=True, fmt=\"0\")"
   ]
  },
  {
   "cell_type": "markdown",
   "metadata": {},
   "source": [
    "<h2>Specific instances</h2>"
   ]
  },
  {
   "cell_type": "code",
   "execution_count": 96,
   "metadata": {},
   "outputs": [
    {
     "data": {
      "text/plain": [
       "(119, 4)"
      ]
     },
     "metadata": {},
     "output_type": "display_data"
    }
   ],
   "source": [
    "swear_words_arr = ['fuck', 'shit', 'bastard']\n",
    "swear_words_df = pd.DataFrame(columns=['Timestamp (UTC)','Transcription','File','Alexa Response'])\n",
    "\n",
    "for word in swear_words_arr:\n",
    "    temp_df = transcripts[transcripts['Transcription'].str.contains(word)]\n",
    "    swear_words_df = pd.concat([swear_words_df, temp_df])\n",
    "display(swear_words_df.shape)"
   ]
  },
  {
   "cell_type": "code",
   "execution_count": 16,
   "metadata": {},
   "outputs": [],
   "source": [
    "file_names = swear_words_df['File']\n",
    "potential_prefixes = ['Alexa_6/Audio and Transcription/Audio/', 'Alexa_1/Audio and Transcription/Audio/', 'Audio and Transcription/Audio/','Audio and Transcription-2/Audio/','Audio and Transcription-3/Audio/','Audio and Transcription-4/Audio/']\n",
    "name = file_names[91]\n",
    "for idx, name in enumerate(file_names.values):\n",
    "    for prefix in potential_prefixes:\n",
    "        path = prefix+name\n",
    "        if os.path.isfile(path):\n",
    "            break\n",
    "    dst = 'CUSTOM/audio'+str(idx+1)+'.wav'\n",
    "    copyfile(path, dst)"
   ]
  },
  {
   "cell_type": "markdown",
   "metadata": {},
   "source": [
    "<h2>Speech recognition</h2>"
   ]
  },
  {
   "cell_type": "code",
   "execution_count": 42,
   "metadata": {},
   "outputs": [],
   "source": [
    "import speech_recognition as sr\n",
    "import requests\n",
    "import pydub"
   ]
  },
  {
   "cell_type": "code",
   "execution_count": 70,
   "metadata": {},
   "outputs": [],
   "source": [
    "r = sr.Recognizer()\n",
    "os.environ[\"GOOGLE_APPLICATION_CREDENTIALS\"]=\"alexa-analysis-ffcc1158ca31.JSON\""
   ]
  },
  {
   "cell_type": "code",
   "execution_count": 89,
   "metadata": {},
   "outputs": [],
   "source": [
    "segment_list = []\n",
    "for i in range(1,120):\n",
    "    path = '/Users/sol/Downloads/Amazon Data/CUSTOM/audio'+str(i)+'.wav'\n",
    "    with sr.AudioFile(path) as source:\n",
    "        audio = r.record(source)  # read the entire audio file                  \n",
    "\n",
    "        res = r.recognize_google_cloud(audio, show_all=True)\n",
    "\n",
    "    obj = next((x for x in res['results'][0]['alternatives'][0]['words'] if x['word'].lower() in swear_words_arr), None)\n",
    "    if obj:\n",
    "        segment = pydub.AudioSegment.from_wav(path)[float(obj['startTime'][:-1])*1000:float(obj['endTime'][:-1])*1000]\n",
    "        segment_list.append(segment)"
   ]
  },
  {
   "cell_type": "code",
   "execution_count": 90,
   "metadata": {},
   "outputs": [],
   "source": [
    "fin_seg = pydub.AudioSegment.empty()\n",
    "for seg in segment_list:\n",
    "    fin_seg += seg"
   ]
  },
  {
   "cell_type": "code",
   "execution_count": 92,
   "metadata": {},
   "outputs": [
    {
     "data": {
      "text/plain": [
       "<_io.BufferedRandom name='swearing.mp4'>"
      ]
     },
     "execution_count": 92,
     "metadata": {},
     "output_type": "execute_result"
    }
   ],
   "source": [
    "fin_seg.export('swearing.mp4', format=\"mp4\")"
   ]
  },
  {
   "cell_type": "code",
   "execution_count": null,
   "metadata": {},
   "outputs": [],
   "source": []
  }
 ],
 "metadata": {
  "kernelspec": {
   "display_name": "Python 3",
   "language": "python",
   "name": "python3"
  },
  "language_info": {
   "codemirror_mode": {
    "name": "ipython",
    "version": 3
   },
   "file_extension": ".py",
   "mimetype": "text/x-python",
   "name": "python",
   "nbconvert_exporter": "python",
   "pygments_lexer": "ipython3",
   "version": "3.8.6"
  }
 },
 "nbformat": 4,
 "nbformat_minor": 4
}
